{
 "cells": [
  {
   "cell_type": "markdown",
   "metadata": {},
   "source": [
    "ESSAY:"
   ]
  },
  {
   "cell_type": "markdown",
   "metadata": {},
   "source": [
    "1. Jelaskan apa yang dimaksud dengan Machine Learning!"
   ]
  },
  {
   "cell_type": "markdown",
   "metadata": {},
   "source": [
    "Machine learning (pembelajaran mesin) adalah cabang kecerdasan buatan (AI) yang berfokus pada pembuatan algoritma yang dapat belajar dari data secara mandiri. Setelah dilatih dengan data yang besar, algoritma ini dapat digunakan untuk membuat prediksi atau keputusan tanpa memerlukan pemrograman eksplisit."
   ]
  },
  {
   "cell_type": "markdown",
   "metadata": {},
   "source": [
    "2. Berikan contoh penerapan implemetasi dalam kehidupan sehari-hari terkait Machine Learning. Dan jelaskan mengapa membutuhkannya dan manfaatnya "
   ]
  },
  {
   "cell_type": "markdown",
   "metadata": {},
   "source": [
    "Pengenalan Wajah:\n",
    "Contoh: Smartphone menggunakan kecerdasan buatan (AI) untuk mengidentifikasi wajah pengguna untuk membuka kunci.\n",
    "Manfaat:\n",
    "    •\tMemberikan kemudahan akses bagi pengguna dan meningkatkan keamanan perangkat dengan autentikasi biometrik.\n",
    "    •\tMemungkinkan aplikasi lain untuk menggunakan pengenalan wajah, seperti otentikasi pembayaran dan kontrol akses.\n"
   ]
  },
  {
   "cell_type": "markdown",
   "metadata": {},
   "source": [
    "3. Jelaskan macam-macam taxonomi dalam pengerapan Machine Learning"
   ]
  },
  {
   "cell_type": "markdown",
   "metadata": {},
   "source": [
    "Berikut ini adalah beberapa taksonomi umum yang digunakan dalam pembelajaran mesin:\n",
    "1.\tBerdasarkan Tanggung Jawab:\n",
    "    •\tPembelajaran Tanpa Awasi (Unsupervised Learning): Algoritma dilatih dengan data tidak berlabel, di mana label menunjukkan kategori atau nilai yang tepat untuk setiap data. Contohnya, klasifikasi email spam dan regresi harga rumah. \n",
    "    •\tPembelajaran Terawasi (Supervised Learning): Algoritma dilatih dengan data berlabel, di mana label menunjukkan kategori atau nilai yang tepat untuk setiap data. Pengelompokan pelanggan dan analisis sentimen adalah contohnya.\n",
    "    •\tPembelajaran Penguatan (Reinforcement Learning): Algoritma ini mencoba berbagai tindakan dan menerima imbalan atau hukuman berdasarkan hasilnya. Contoh: robot yang belajar bermain game dan mobil yang dapat bergerak sendiri.\n",
    "2.\tBerdasarkan Algoritma:\n",
    "    •\tJaringan Saraf Saraf Tiruan (ANN): Jaringan saraf buatan terdiri dari neuron buatan yang terhubung satu sama lain, yang merupakan inspirasi dari struktur otak manusia. ANN dapat digunakan untuk berbagai tugas, seperti pengenalan pola, regresi, dan klasifikasi.\n",
    "    •\tPohon Keputusan: Pohon keputusan mudah dipahami dan diinterpretasikan oleh algoritma ini dan menggunakan struktur pohon untuk menunjukkan hasil dan keputusan yang mungkin. Mereka juga dapat digunakan untuk berbagai tugas, seperti regresi dan klasifikasi.\n",
    "    •\tMesin Vektor Dukungan (SVM): Algoritma ini menemukan hyperplane yang ideal untuk memisahkan data. Untuk tugas klasifikasi, SVM sangat baik, terutama untuk data berukuran besar.\n",
    "3.\tBerdasarkan Aplikasi:\n",
    "    •\tPengolahan Bahasa Alami (NLP): Algoritma ini digunakan untuk memahami dan memproses bahasa manusia. NLP dapat digunakan dalam banyak aplikasi, seperti terjemahan mesin, analisis sentimen, dan chatbot.\n",
    "    •\tPenglihatan Komputer (Computer Vision): Algoritma ini digunakan untuk memahami dan menganalisis gambar dan video. Penglihatan komputer digunakan untuk berbagai aplikasi, seperti pengenalan wajah, deteksi objek, dan otonomi kendaraan.\n",
    "    •\tRobotika: Algoritma Pembelajaran Mesin digunakan untuk mengatur dan mengoptimalkan gerakan robot.\n"
   ]
  },
  {
   "cell_type": "markdown",
   "metadata": {},
   "source": [
    "STUDI KASUS:"
   ]
  },
  {
   "cell_type": "markdown",
   "metadata": {},
   "source": [
    "1.a Berapa rata-rata mahasiswa datang pada minggu ini? "
   ]
  },
  {
   "cell_type": "code",
   "execution_count": 2,
   "metadata": {},
   "outputs": [
    {
     "name": "stdout",
     "output_type": "stream",
     "text": [
      "Rata-rata kedatangan per minggu: 2.5714285714285716\n"
     ]
    }
   ],
   "source": [
    "kedatangan = {\n",
    "    'Senin': {'Ani': 2},\n",
    "    'Selasa': {'Budi': 2},\n",
    "    'Rabu': {'Jono': 4},\n",
    "    'Kamis': {'Lono': 1},\n",
    "    'Jumat': {'Joni': 2},\n",
    "    'Sabtu': {'Ani': 5},\n",
    "    'Minggu': {'Budi': 2},\n",
    "}\n",
    "\n",
    "biaya = {\n",
    "    'Ani': 30000,\n",
    "    'Budi': 35000,\n",
    "    'Joni': 20000,\n",
    "    'Jono': 25000,\n",
    "    'Lono': 15000,\n",
    "}\n",
    "\n",
    "def rata_kedatangan(kedatangan, biaya):\n",
    "    total_hadir = sum(jumlah for hadir in kedatangan.values() for jumlah in hadir.values())\n",
    "    total_biaya = sum(biaya[mhs] * jumlah for hadir in kedatangan.values() for mhs, jumlah in hadir.items())\n",
    "    jumlah_hari = len(kedatangan)\n",
    "    return total_hadir / jumlah_hari\n",
    "\n",
    "rata_rata_kedatangan = rata_kedatangan(kedatangan, biaya)\n",
    "print(f\"Rata-rata kedatangan per minggu: {rata_rata_kedatangan}\")\n"
   ]
  },
  {
   "cell_type": "markdown",
   "metadata": {},
   "source": [
    "b. Kapan biaya tertinggi terjadi?"
   ]
  },
  {
   "cell_type": "code",
   "execution_count": 7,
   "metadata": {},
   "outputs": [
    {
     "name": "stdout",
     "output_type": "stream",
     "text": [
      "Hari dengan biaya tertinggi: Sabtu dengan biaya 150000\n"
     ]
    }
   ],
   "source": [
    "def total_biaya_per_hari(kedatangan, biaya):\n",
    "    return {hari: sum(jumlah * biaya[mhs] for mhs, jumlah in hadir.items()) for hari, hadir in kedatangan.items()}\n",
    "\n",
    "def hari_biaya_tertinggi(total_biaya):\n",
    "    hari = max(total_biaya.items(), key=lambda x: x[1])[0]\n",
    "    biaya_tertinggi = max(total_biaya.values())\n",
    "    return hari, biaya_tertinggi\n",
    "\n",
    "total_biaya = total_biaya_per_hari(kedatangan, biaya)\n",
    "hari_tertinggi, biaya_tertinggi = hari_biaya_tertinggi(total_biaya)\n",
    "print(f\"Hari dengan biaya tertinggi: {hari_tertinggi} dengan biaya {biaya_tertinggi}\")\n"
   ]
  },
  {
   "cell_type": "markdown",
   "metadata": {},
   "source": [
    "c. Hari apa biaya lebih dari 110000?"
   ]
  },
  {
   "cell_type": "code",
   "execution_count": 6,
   "metadata": {},
   "outputs": [
    {
     "name": "stdout",
     "output_type": "stream",
     "text": [
      "Hari dengan biaya lebih dari 110000: ['Sabtu']\n"
     ]
    }
   ],
   "source": [
    "def hari_biaya_lebih_dari(total_biaya, threshold):\n",
    "    return [hari for hari, biaya in total_biaya.items() if biaya > threshold]\n",
    "\n",
    "hari_biaya_lebih_110k = hari_biaya_lebih_dari(total_biaya, 110000)\n",
    "print(f\"Hari dengan biaya lebih dari 110000: {hari_biaya_lebih_110k}\")\n"
   ]
  },
  {
   "cell_type": "markdown",
   "metadata": {},
   "source": [
    "d. Siapa yang paling banyak datang ke kampus?"
   ]
  },
  {
   "cell_type": "code",
   "execution_count": 8,
   "metadata": {},
   "outputs": [
    {
     "name": "stdout",
     "output_type": "stream",
     "text": [
      "Mahasiswa yang paling banyak datang: Ani\n"
     ]
    }
   ],
   "source": [
    "def mahasiswa_terbanyak(kedatangan):\n",
    "    total_kedatangan = {mhs: sum(hadir.get(mhs, 0) for hadir in kedatangan.values()) for mhs in set(mhs for hadir in kedatangan.values() for mhs in hadir)}\n",
    "    mhs, frekuensi = max(total_kedatangan.items(), key=lambda x: x[1])\n",
    "    return mhs\n",
    "\n",
    "mhs_terbanyak = mahasiswa_terbanyak(kedatangan)\n",
    "print(f\"Mahasiswa yang paling banyak datang: {mhs_terbanyak}\")\n"
   ]
  },
  {
   "cell_type": "markdown",
   "metadata": {},
   "source": [
    "e. Siapa yang datang pada hari minggu?"
   ]
  },
  {
   "cell_type": "code",
   "execution_count": 9,
   "metadata": {},
   "outputs": [
    {
     "name": "stdout",
     "output_type": "stream",
     "text": [
      "Mahasiswa yang hadir pada hari Minggu: ['Budi']\n"
     ]
    }
   ],
   "source": [
    "def mahasiswa_hadir_pada_hari(kedatangan, hari):\n",
    "    return list(kedatangan.get(hari, {}).keys())\n",
    "\n",
    "mhs_hadir_minggu = mahasiswa_hadir_pada_hari(kedatangan, 'Minggu')\n",
    "print(f\"Mahasiswa yang hadir pada hari Minggu: {mhs_hadir_minggu}\")"
   ]
  },
  {
   "cell_type": "markdown",
   "metadata": {},
   "source": [
    "f. Berapa biaya tertinggi dan terendah?"
   ]
  },
  {
   "cell_type": "code",
   "execution_count": 10,
   "metadata": {},
   "outputs": [
    {
     "name": "stdout",
     "output_type": "stream",
     "text": [
      "Biaya tertinggi: 150000, Biaya terendah: 15000\n"
     ]
    }
   ],
   "source": [
    "def biaya_tertinggi_dan_terendah(total_biaya):\n",
    "    biaya_tertinggi = max(total_biaya.values())\n",
    "    biaya_terendah = min(total_biaya.values())\n",
    "    return biaya_tertinggi, biaya_terendah\n",
    "\n",
    "biaya_max, biaya_min = biaya_tertinggi_dan_terendah(total_biaya)\n",
    "print(f\"Biaya tertinggi: {biaya_max}, Biaya terendah: {biaya_min}\")\n"
   ]
  },
  {
   "cell_type": "markdown",
   "metadata": {},
   "source": [
    "g. Berapa frekuensi datang tertinggi dan terendah?"
   ]
  },
  {
   "cell_type": "code",
   "execution_count": 11,
   "metadata": {},
   "outputs": [
    {
     "name": "stdout",
     "output_type": "stream",
     "text": [
      "Frekuensi kedatangan tertinggi: 7, Frekuensi kedatangan terendah: 1\n"
     ]
    }
   ],
   "source": [
    "def frekuensi_terbanyak_dan_terendah(kedatangan):\n",
    "    total_kedatangan = {mhs: sum(hadir.get(mhs, 0) for hadir in kedatangan.values()) for mhs in set(mhs for hadir in kedatangan.values() for mhs in hadir)}\n",
    "    frekuensi_tertinggi = max(total_kedatangan.values())\n",
    "    frekuensi_terendah = min(total_kedatangan.values())\n",
    "    return frekuensi_tertinggi, frekuensi_terendah\n",
    "\n",
    "frekuensi_max, frekuensi_min = frekuensi_terbanyak_dan_terendah(kedatangan)\n",
    "print(f\"Frekuensi kedatangan tertinggi: {frekuensi_max}, Frekuensi kedatangan terendah: {frekuensi_min}\")"
   ]
  },
  {
   "cell_type": "markdown",
   "metadata": {},
   "source": [
    "2. Lengkapi source code dibawah berikut  \n",
    "``` \n",
    "fakultas <- c(\"Bisnis\", \"D3 Perhotelan\", \"ICT\", \"Ilmu Komunikasi\", \"Seni dan Desain\") \n",
    "jumlah_mahasiswa <- c(260, 28, 284, 465, 735)  \n",
    "akreditasi <- c(\"A\",\"A\",\"B\",\"A\",\"A\")  \n",
    "info_mahasiswa <- data.frame(fakultas, jumlah_mahasiswa, akreditasi)  \n",
    "info_mahasiswa \n",
    "gambar <- ggplot(info_mahasiswa, aes(x=fakultas, y=jumlah_mahasiswa, fill=fakultas))  \n",
    "gambar <- gambar + geom_bar(width=1, stat=\"identity\")  \n",
    "gambar  \n",
    "``` "
   ]
  },
  {
   "cell_type": "code",
   "execution_count": null,
   "metadata": {},
   "outputs": [],
   "source": [
    "import matplotlib.pyplot as plt\n",
    "import numpy as np\n",
    "\n",
    "fakultas = (\"Bisnis\", \"D3 Perhotelan\", \"ICT\", \"Ilmu Komunikasi\", \"Seni dan Desain\") \n",
    "jumlah_mahasiswa = (260, 28, 284, 465, 735) \n",
    "akreditasi = (\"A\",\"A\",\"B\",\"A\",\"A\")\n",
    "warna = [\"red\", \"yellow\", \"lime\", \"skyblue\", \"purple\"]\n",
    "\n",
    "x_coords = np.arange(len(fakultas))\n",
    "plt.bar(x_coords, jumlah_mahasiswa, width=1,color=warna, fill=fakultas)\n",
    "plt.xticks(rotation=90) \n",
    "plt.ylabel('jumlah_mahaiswa')\n",
    "plt.xlabel('fakultas')\n",
    "plt.title('Data fakultas')\n",
    "plt.show()"
   ]
  },
  {
   "cell_type": "code",
   "execution_count": 13,
   "metadata": {},
   "outputs": [
    {
     "ename": "ModuleNotFoundError",
     "evalue": "No module named 'matplotlib'",
     "output_type": "error",
     "traceback": [
      "\u001b[0;31m---------------------------------------------------------------------------\u001b[0m",
      "\u001b[0;31mModuleNotFoundError\u001b[0m                       Traceback (most recent call last)",
      "Cell \u001b[0;32mIn[13], line 1\u001b[0m\n\u001b[0;32m----> 1\u001b[0m \u001b[38;5;28;01mimport\u001b[39;00m \u001b[38;5;21;01mmatplotlib\u001b[39;00m\u001b[38;5;21;01m.\u001b[39;00m\u001b[38;5;21;01mpyplot\u001b[39;00m \u001b[38;5;28;01mas\u001b[39;00m \u001b[38;5;21;01mplt\u001b[39;00m\n\u001b[1;32m      2\u001b[0m \u001b[38;5;28;01mimport\u001b[39;00m \u001b[38;5;21;01mnumpy\u001b[39;00m \u001b[38;5;28;01mas\u001b[39;00m \u001b[38;5;21;01mnp\u001b[39;00m\n\u001b[1;32m      4\u001b[0m fakultas \u001b[38;5;241m=\u001b[39m (\u001b[38;5;124m\"\u001b[39m\u001b[38;5;124mBisnis\u001b[39m\u001b[38;5;124m\"\u001b[39m, \u001b[38;5;124m\"\u001b[39m\u001b[38;5;124mD3 Perhotelan\u001b[39m\u001b[38;5;124m\"\u001b[39m, \u001b[38;5;124m\"\u001b[39m\u001b[38;5;124mICT\u001b[39m\u001b[38;5;124m\"\u001b[39m, \u001b[38;5;124m\"\u001b[39m\u001b[38;5;124mIlmu Komunikasi\u001b[39m\u001b[38;5;124m\"\u001b[39m, \u001b[38;5;124m\"\u001b[39m\u001b[38;5;124mSeni dan Desain\u001b[39m\u001b[38;5;124m\"\u001b[39m) \n",
      "\u001b[0;31mModuleNotFoundError\u001b[0m: No module named 'matplotlib'"
     ]
    }
   ],
   "source": [
    "import matplotlib.pyplot as plt\n",
    "import numpy as np\n",
    "\n",
    "fakultas = (\"Bisnis\", \"D3 Perhotelan\", \"ICT\", \"Ilmu Komunikasi\", \"Seni dan Desain\") \n",
    "jumlah_mahasiswa = (260, 28, 284, 465, 735) \n",
    "akreditasi = (\"A\",\"A\",\"B\",\"A\",\"A\")\n",
    "warna = [\"red\", \"yellow\", \"lime\", \"skyblue\", \"purple\"]\n",
    "\n",
    "x_coords = np.arange(len(fakultas))\n",
    "plt.bar(x_coords, jumlah_mahasiswa, width=1,color=warna, fill=fakultas)\n",
    "plt.xticks(rotation=90) \n",
    "plt.ylabel('jumlah_mahaiswa')\n",
    "plt.xlabel('fakultas')\n",
    "plt.title('Data fakultas')\n",
    "plt.show()"
   ]
  }
 ],
 "metadata": {
  "kernelspec": {
   "display_name": "Python 3",
   "language": "python",
   "name": "python3"
  },
  "language_info": {
   "codemirror_mode": {
    "name": "ipython",
    "version": 3
   },
   "file_extension": ".py",
   "mimetype": "text/x-python",
   "name": "python",
   "nbconvert_exporter": "python",
   "pygments_lexer": "ipython3",
   "version": "3.10.12"
  }
 },
 "nbformat": 4,
 "nbformat_minor": 2
}
